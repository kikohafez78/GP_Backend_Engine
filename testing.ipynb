{
 "cells": [
  {
   "cell_type": "code",
   "execution_count": 10,
   "metadata": {},
   "outputs": [
    {
     "name": "stdout",
     "output_type": "stream",
     "text": [
      "1\tApple\tApple\tPROPN\tNNP\tNumber=Sing\t3\tnsubj\t\t_\n",
      "2\tis\tbe\tAUX\tVBZ\tMood=Ind|Number=Sing|Person=3|Tense=Pres|VerbForm=Fin\t3\taux\t\t_\n",
      "3\tlooking\tlook\tVERB\tVBG\tAspect=Prog|Tense=Pres|VerbForm=Part\t3\tROOT\t1-nsubj|2-aux|4-prep|7-dep|12-punct\t_\n",
      "4\tat\tat\tADP\tIN\t_\t3\tprep\t5-pcomp\t_\n",
      "5\tbuying\tbuy\tVERB\tVBG\tAspect=Prog|Tense=Pres|VerbForm=Part\t4\tpcomp\t6-dobj\t_\n",
      "6\tU.K.\tU.K.\tPROPN\tNNP\tNumber=Sing\t5\tdobj\t\t_\n",
      "7\tstartup\tstartup\tNOUN\tNN\tNumber=Sing\t3\tdep\t8-prep\t_\n",
      "8\tfor\tfor\tADP\tIN\t_\t7\tprep\t11-pobj\t_\n",
      "9\t$\t$\tSYM\t$\t_\t11\tquantmod\t\t_\n",
      "10\t1\t1\tNUM\tCD\tNumType=Card\t11\tcompound\t\t_\n",
      "11\tbillion\tbillion\tNUM\tCD\tNumType=Card\t8\tpobj\t9-quantmod|10-compound\t_\n",
      "12\t.\t.\tPUNCT\t.\tPunctType=Peri\t3\tpunct\t\t_\n",
      "\n",
      "1\tThe\tthe\tDET\tDT\tDefinite=Def|PronType=Art\t4\tdet\t\t_\n",
      "2\tquick\tquick\tADJ\tJJ\tDegree=Pos\t4\tamod\t\t_\n",
      "3\tbrown\tbrown\tADJ\tJJ\tDegree=Pos\t4\tamod\t\t_\n",
      "4\tfox\tfox\tNOUN\tNN\tNumber=Sing\t5\tnsubj\t1-det|2-amod|3-amod\t_\n",
      "5\tjumps\tjump\tVERB\tVBZ\tNumber=Sing|Person=3|Tense=Pres|VerbForm=Fin\t5\tROOT\t4-nsubj|6-prep|10-punct\t_\n",
      "6\tover\tover\tADP\tIN\t_\t5\tprep\t9-pobj\t_\n",
      "7\tthe\tthe\tDET\tDT\tDefinite=Def|PronType=Art\t9\tdet\t\t_\n",
      "8\tlazy\tlazy\tADJ\tJJ\tDegree=Pos\t9\tamod\t\t_\n",
      "9\tdog\tdog\tNOUN\tNN\tNumber=Sing\t6\tpobj\t7-det|8-amod\t_\n",
      "10\t.\t.\tPUNCT\t.\tPunctType=Peri\t5\tpunct\t\t_\n",
      "\n"
     ]
    }
   ],
   "source": [
    "def get_filename_and_extension(file_path):\n",
    "    filename, extension = os.path.splitext(file_path)\n",
    "    return filename, extension"
   ]
  },
  {
   "cell_type": "code",
   "execution_count": 14,
   "metadata": {},
   "outputs": [],
   "source": [
    "import os\n",
    "def get_filename_and_extension(file_path):\n",
    "    filename = os.path.basename(file_path)\n",
    "    return filename"
   ]
  },
  {
   "cell_type": "code",
   "execution_count": 15,
   "metadata": {},
   "outputs": [
    {
     "data": {
      "text/plain": [
       "'xlsx.file'"
      ]
     },
     "execution_count": 15,
     "metadata": {},
     "output_type": "execute_result"
    }
   ],
   "source": [
    "get_filename_and_extension(\"code\\\\xlsx.file\")"
   ]
  },
  {
   "cell_type": "code",
   "execution_count": 1,
   "metadata": {},
   "outputs": [
    {
     "ename": "ModuleNotFoundError",
     "evalue": "No module named 'neuralcoref'",
     "output_type": "error",
     "traceback": [
      "\u001b[1;31m---------------------------------------------------------------------------\u001b[0m",
      "\u001b[1;31mModuleNotFoundError\u001b[0m                       Traceback (most recent call last)",
      "Cell \u001b[1;32mIn[1], line 10\u001b[0m\n\u001b[0;32m      7\u001b[0m \u001b[38;5;28;01mimport\u001b[39;00m \u001b[38;5;21;01mspacy\u001b[39;00m\n\u001b[0;32m      8\u001b[0m \u001b[38;5;28;01mfrom\u001b[39;00m \u001b[38;5;21;01mflask\u001b[39;00m \u001b[38;5;28;01mimport\u001b[39;00m Flask, request\n\u001b[1;32m---> 10\u001b[0m \u001b[38;5;28;01mimport\u001b[39;00m \u001b[38;5;21;01mneuralcoref\u001b[39;00m\n\u001b[0;32m     11\u001b[0m \u001b[38;5;28;01mimport\u001b[39;00m \u001b[38;5;21;01mopennre\u001b[39;00m\n\u001b[0;32m     13\u001b[0m ENTITY_TYPES \u001b[38;5;241m=\u001b[39m [\u001b[38;5;124m\"\u001b[39m\u001b[38;5;124mhuman\u001b[39m\u001b[38;5;124m\"\u001b[39m, \u001b[38;5;124m\"\u001b[39m\u001b[38;5;124mperson\u001b[39m\u001b[38;5;124m\"\u001b[39m, \u001b[38;5;124m\"\u001b[39m\u001b[38;5;124mcompany\u001b[39m\u001b[38;5;124m\"\u001b[39m, \u001b[38;5;124m\"\u001b[39m\u001b[38;5;124menterprise\u001b[39m\u001b[38;5;124m\"\u001b[39m, \u001b[38;5;124m\"\u001b[39m\u001b[38;5;124mbusiness\u001b[39m\u001b[38;5;124m\"\u001b[39m, \u001b[38;5;124m\"\u001b[39m\u001b[38;5;124mgeographic region\u001b[39m\u001b[38;5;124m\"\u001b[39m,\n\u001b[0;32m     14\u001b[0m                 \u001b[38;5;124m\"\u001b[39m\u001b[38;5;124mhuman settlement\u001b[39m\u001b[38;5;124m\"\u001b[39m, \u001b[38;5;124m\"\u001b[39m\u001b[38;5;124mgeographic entity\u001b[39m\u001b[38;5;124m\"\u001b[39m, \u001b[38;5;124m\"\u001b[39m\u001b[38;5;124mterritorial entity type\u001b[39m\u001b[38;5;124m\"\u001b[39m, \u001b[38;5;124m\"\u001b[39m\u001b[38;5;124morganization\u001b[39m\u001b[38;5;124m\"\u001b[39m]\n",
      "\u001b[1;31mModuleNotFoundError\u001b[0m: No module named 'neuralcoref'"
     ]
    }
   ],
   "source": []
  }
 ],
 "metadata": {
  "kernelspec": {
   "display_name": "base",
   "language": "python",
   "name": "python3"
  },
  "language_info": {
   "codemirror_mode": {
    "name": "ipython",
    "version": 3
   },
   "file_extension": ".py",
   "mimetype": "text/x-python",
   "name": "python",
   "nbconvert_exporter": "python",
   "pygments_lexer": "ipython3",
   "version": "3.11.5"
  }
 },
 "nbformat": 4,
 "nbformat_minor": 2
}
