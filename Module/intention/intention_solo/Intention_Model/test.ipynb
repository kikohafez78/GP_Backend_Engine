{
 "cells": [
  {
   "cell_type": "code",
   "execution_count": 3,
   "metadata": {},
   "outputs": [
    {
     "name": "stdout",
     "output_type": "stream",
     "text": [
      "Accuracy: 0.9772727272727273\n"
     ]
    },
    {
     "data": {
      "text/plain": [
       "['Create_Sheet', 'Format_Cells', 'Pivot_Table']"
      ]
     },
     "execution_count": 3,
     "metadata": {},
     "output_type": "execute_result"
    }
   ],
   "source": [
    "from knn_tf_idf import knn_tf_idf_model\n",
    "\n",
    "model = knn_tf_idf_model()\n",
    "model.train()\n",
    "model.predict([\"create a new sheet called 'sales'\", \"format cells in A1:D1\", \"create a pivot table with a sum summary function\"])\n"
   ]
  }
 ],
 "metadata": {
  "kernelspec": {
   "display_name": "base",
   "language": "python",
   "name": "python3"
  },
  "language_info": {
   "codemirror_mode": {
    "name": "ipython",
    "version": 3
   },
   "file_extension": ".py",
   "mimetype": "text/x-python",
   "name": "python",
   "nbconvert_exporter": "python",
   "pygments_lexer": "ipython3",
   "version": "3.11.5"
  }
 },
 "nbformat": 4,
 "nbformat_minor": 2
}
