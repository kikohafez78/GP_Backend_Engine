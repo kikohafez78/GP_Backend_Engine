{
 "cells": [
  {
   "cell_type": "code",
   "execution_count": 1,
   "metadata": {},
   "outputs": [],
   "source": [
    "import sqlite3\n",
    "import psycopg2 as psql\n",
    "import numpy as np\n",
    "from pinecone import Pinecone\n",
    "from Database_models import clean_slate,final_ivf,product_quantization\n",
    "import pymongo\n",
    "import torch\n",
    "from NotImplemented import NotImplemented\n",
    "import http"
   ]
  },
  {
   "cell_type": "code",
   "execution_count": 2,
   "metadata": {},
   "outputs": [],
   "source": [
    "class Database(object):\n",
    "    def __init__(self, database_connection_str: str, database_type: str):\n",
    "        self.connection_string = database_connection_str\n",
    "        if database_type.lower() == \"Pinecone\":\n",
    "            pass\n",
    "        elif database_type.lower() == \"Postgresql\":\n",
    "            pass\n",
    "        else:\n",
    "            pass \n",
    "    def create_database(self, db_name: str):\n",
    "        NotImplemented()\n",
    "    def add_new_action(self, action):\n",
    "        NotImplemented()\n",
    "    def retrieve_action(self, query_element: list[int]):\n",
    "        NotImplemented()\n",
    "    def retreive_used_plan(self,user_name: str , query_element: list[list[int]]):\n",
    "        NotImplemented()\n",
    "    def add_new_user(self, user_name: str):\n",
    "        NotImplemented()\n",
    "    def retrieve_user_data(self, user_name: str):\n",
    "        NotImplemented()\n",
    "    def connect_to_database(self, db_name):\n",
    "        NotImplemented()\n",
    "        "
   ]
  }
 ],
 "metadata": {
  "kernelspec": {
   "display_name": "base",
   "language": "python",
   "name": "python3"
  },
  "language_info": {
   "codemirror_mode": {
    "name": "ipython",
    "version": 3
   },
   "file_extension": ".py",
   "mimetype": "text/x-python",
   "name": "python",
   "nbconvert_exporter": "python",
   "pygments_lexer": "ipython3",
   "version": "3.11.5"
  }
 },
 "nbformat": 4,
 "nbformat_minor": 2
}
